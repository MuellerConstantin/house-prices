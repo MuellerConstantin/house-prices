{
 "cells": [
  {
   "attachments": {},
   "cell_type": "markdown",
   "metadata": {},
   "source": [
    "# House Price Prediction - Evaluation"
   ]
  },
  {
   "attachments": {},
   "cell_type": "markdown",
   "metadata": {},
   "source": [
    "This analysis deals with the prediction of house prices based on the house's properties. The prediction is based on a sample of houses from Ames, Iowa. The dataset itself is obtained from [Kaggle](https://www.kaggle.com/competitions/house-prices-advanced-regression-techniques) as part of a competition."
   ]
  },
  {
   "attachments": {},
   "cell_type": "markdown",
   "metadata": {},
   "source": [
    "## Extract-Transform-Load (ETL)"
   ]
  },
  {
   "cell_type": "code",
   "execution_count": null,
   "metadata": {},
   "outputs": [],
   "source": [
    "import pandas as pd"
   ]
  },
  {
   "cell_type": "code",
   "execution_count": null,
   "metadata": {},
   "outputs": [],
   "source": [
    "houses_train = pd.read_csv(\"../data/processed/train.csv\")\n",
    "houses_validation = pd.read_csv(\"../data/processed/validation.csv\")"
   ]
  },
  {
   "attachments": {},
   "cell_type": "markdown",
   "metadata": {},
   "source": [
    "## Evaluation"
   ]
  },
  {
   "cell_type": "code",
   "execution_count": null,
   "metadata": {},
   "outputs": [],
   "source": [
    "import joblib\n",
    "import matplotlib.pyplot as plt\n",
    "import seaborn as sns\n",
    "from sklearn.metrics import mean_squared_error, mean_squared_log_error\n",
    "\n",
    "sns.set_theme()"
   ]
  },
  {
   "cell_type": "code",
   "execution_count": null,
   "metadata": {},
   "outputs": [],
   "source": [
    "pd.concat([houses_train[\"SalePrice\"], houses_validation[\"SalePrice\"]]).describe()"
   ]
  },
  {
   "attachments": {},
   "cell_type": "markdown",
   "metadata": {},
   "source": [
    "### Linear Regression"
   ]
  },
  {
   "attachments": {},
   "cell_type": "markdown",
   "metadata": {},
   "source": [
    "As a baseline model, we trained a linear regression model on the dataset. The model was trained on the training set and evaluated on the test set."
   ]
  },
  {
   "cell_type": "code",
   "execution_count": null,
   "metadata": {},
   "outputs": [],
   "source": [
    "lm_model = joblib.load(\"../models/linear_regression.joblib\")"
   ]
  },
  {
   "cell_type": "code",
   "execution_count": null,
   "metadata": {},
   "outputs": [],
   "source": [
    "lm_prediction_train = lm_model.predict(houses_train.drop(columns=[\"SalePrice\"]))\n",
    "lm_rmse_train = round(mean_squared_error(houses_train[\"SalePrice\"], lm_prediction_train, squared=False), 2)\n",
    "lm_rmsle_train = mean_squared_log_error(houses_train[\"SalePrice\"], lm_prediction_train, squared=False)\n",
    "\n",
    "lm_prediction_validation = lm_model.predict(houses_validation.drop(columns=[\"SalePrice\"]))\n",
    "lm_rmse_validation = round(mean_squared_error(houses_validation[\"SalePrice\"], lm_prediction_validation, squared=False), 2)\n",
    "lm_rmsle_validation = mean_squared_log_error(houses_validation[\"SalePrice\"], lm_prediction_validation, squared=False)"
   ]
  },
  {
   "cell_type": "code",
   "execution_count": null,
   "metadata": {},
   "outputs": [],
   "source": [
    "print(f\"Linear regression train error (RMSE): {lm_rmse_train}\")\n",
    "print(f\"Linear regression train error (RMSLE): {lm_rmsle_train}\")\n",
    "print(f\"Linear regression validation error (RMSE): {lm_rmse_validation}\")\n",
    "print(f\"Linear regression validation error (RMSLE): {lm_rmsle_validation}\")"
   ]
  },
  {
   "attachments": {},
   "cell_type": "markdown",
   "metadata": {},
   "source": [
    "### Linear Ridge Regression"
   ]
  },
  {
   "attachments": {},
   "cell_type": "markdown",
   "metadata": {},
   "source": [
    "A simple linear regression model with ridge regularization was trained on the dataset."
   ]
  },
  {
   "cell_type": "code",
   "execution_count": null,
   "metadata": {},
   "outputs": [],
   "source": [
    "lm_ridge_model = joblib.load(\"../models/linear_ridge_regression.joblib\")"
   ]
  },
  {
   "cell_type": "code",
   "execution_count": null,
   "metadata": {},
   "outputs": [],
   "source": [
    "lm_ridge_prediction_train = lm_ridge_model.predict(houses_train.drop(columns=[\"SalePrice\"]))\n",
    "lm_ridge_rmse_train = round(mean_squared_error(houses_train[\"SalePrice\"], lm_ridge_prediction_train, squared=False), 2)\n",
    "lm_ridge_rmsle_train = mean_squared_log_error(houses_train[\"SalePrice\"], lm_ridge_prediction_train, squared=False)\n",
    "\n",
    "lm_ridge_prediction_validation = lm_ridge_model.predict(houses_validation.drop(columns=[\"SalePrice\"]))\n",
    "lm_ridge_rmse_validation = round(mean_squared_error(houses_validation[\"SalePrice\"], lm_ridge_prediction_validation, squared=False), 2)\n",
    "lm_ridge_rmsle_validation = mean_squared_log_error(houses_validation[\"SalePrice\"], lm_ridge_prediction_validation, squared=False)"
   ]
  },
  {
   "cell_type": "code",
   "execution_count": null,
   "metadata": {},
   "outputs": [],
   "source": [
    "print(f\"Linear ridge regression train error (RMSE): {lm_ridge_rmse_train}\")\n",
    "print(f\"Linear ridge regression train error (RMSLE): {lm_ridge_rmsle_train}\")\n",
    "print(f\"Linear ridge regression validation error (RMSE): {lm_ridge_rmse_validation}\")\n",
    "print(f\"Linear ridge regression validation error (RMSLE): {lm_ridge_rmsle_validation}\")"
   ]
  },
  {
   "attachments": {},
   "cell_type": "markdown",
   "metadata": {},
   "source": [
    "### Random Forest"
   ]
  },
  {
   "attachments": {},
   "cell_type": "markdown",
   "metadata": {},
   "source": [
    "As a further model, we trained a random forest on the dataset."
   ]
  },
  {
   "cell_type": "code",
   "execution_count": null,
   "metadata": {},
   "outputs": [],
   "source": [
    "random_forest_model = joblib.load(\"../models/random_forest.joblib\")"
   ]
  },
  {
   "cell_type": "code",
   "execution_count": null,
   "metadata": {},
   "outputs": [],
   "source": [
    "random_forest_prediction_train = random_forest_model.predict(houses_train.drop(columns=[\"SalePrice\"]))\n",
    "random_forest_rmse_train = round(mean_squared_error(houses_train[\"SalePrice\"], random_forest_prediction_train, squared=False), 2)\n",
    "random_forest_rmsle_train = mean_squared_log_error(houses_train[\"SalePrice\"], random_forest_prediction_train, squared=False)\n",
    "\n",
    "random_forest_prediction_validation = random_forest_model.predict(houses_validation.drop(columns=[\"SalePrice\"]))\n",
    "random_forest_rmse_validation = round(mean_squared_error(houses_validation[\"SalePrice\"], random_forest_prediction_validation, squared=False), 2)\n",
    "random_forest_rmsle_validation = mean_squared_log_error(houses_validation[\"SalePrice\"], random_forest_prediction_validation, squared=False)"
   ]
  },
  {
   "cell_type": "code",
   "execution_count": null,
   "metadata": {},
   "outputs": [],
   "source": [
    "print(f\"Random forest train error (RMSE): {random_forest_rmse_train}\")\n",
    "print(f\"Random forest train error (RMSLE): {random_forest_rmsle_train}\")\n",
    "print(f\"Random forest validation error (RMSE): {random_forest_rmse_validation}\")\n",
    "print(f\"Random forest validation error (RMSLE): {random_forest_rmsle_validation}\")"
   ]
  },
  {
   "attachments": {},
   "cell_type": "markdown",
   "metadata": {},
   "source": [
    "### Gradient Boosting"
   ]
  },
  {
   "cell_type": "code",
   "execution_count": null,
   "metadata": {},
   "outputs": [],
   "source": [
    "gradient_boosting_model = joblib.load(\"../models/gradient_boosting.joblib\")"
   ]
  },
  {
   "cell_type": "code",
   "execution_count": null,
   "metadata": {},
   "outputs": [],
   "source": [
    "gradient_boosting_prediction_train = gradient_boosting_model.predict(houses_train.drop(columns=[\"SalePrice\"]))\n",
    "gradient_boosting_rmse_train = round(mean_squared_error(houses_train[\"SalePrice\"], gradient_boosting_prediction_train, squared=False), 2)\n",
    "gradient_boosting_rmsle_train = mean_squared_log_error(houses_train[\"SalePrice\"], gradient_boosting_prediction_train, squared=False)\n",
    "\n",
    "gradient_boosting_prediction_validation = gradient_boosting_model.predict(houses_validation.drop(columns=[\"SalePrice\"]))\n",
    "gradient_boosting_rmse_validation = round(mean_squared_error(houses_validation[\"SalePrice\"], gradient_boosting_prediction_validation, squared=False), 2)\n",
    "gradient_boosting_rmsle_validation = mean_squared_log_error(houses_validation[\"SalePrice\"], gradient_boosting_prediction_validation, squared=False)"
   ]
  },
  {
   "cell_type": "code",
   "execution_count": null,
   "metadata": {},
   "outputs": [],
   "source": [
    "print(f\"Gradient boosting train error (RMSE): {gradient_boosting_rmse_train}\")\n",
    "print(f\"Gradient boosting train error (RMSLE): {gradient_boosting_rmsle_train}\")\n",
    "print(f\"Gradient boosting validation error (RMSE): {gradient_boosting_rmse_validation}\")\n",
    "print(f\"Gradient boosting validation error (RMSLE): {gradient_boosting_rmsle_validation}\")"
   ]
  },
  {
   "cell_type": "markdown",
   "metadata": {},
   "source": [
    "### Feed Forward Neural Network"
   ]
  },
  {
   "cell_type": "code",
   "execution_count": null,
   "metadata": {},
   "outputs": [],
   "source": [
    "feed_forward_nn_model = joblib.load(\"../models/feed_forward_nn.joblib\")"
   ]
  },
  {
   "cell_type": "code",
   "execution_count": null,
   "metadata": {},
   "outputs": [],
   "source": [
    "feed_forward_nn_prediction_train = feed_forward_nn_model.predict(houses_train.drop(columns=[\"SalePrice\"]))\n",
    "feed_forward_nn_rmse_train = round(mean_squared_error(houses_train[\"SalePrice\"], feed_forward_nn_prediction_train, squared=False), 2)\n",
    "feed_forward_nn_rmsle_train = mean_squared_log_error(houses_train[\"SalePrice\"], feed_forward_nn_prediction_train, squared=False)\n",
    "\n",
    "feed_forward_nn_prediction_validation = feed_forward_nn_model.predict(houses_validation.drop(columns=[\"SalePrice\"]))\n",
    "feed_forward_nn_rmse_validation = round(mean_squared_error(houses_validation[\"SalePrice\"], feed_forward_nn_prediction_validation, squared=False), 2)\n",
    "feed_forward_nn_rmsle_validation = mean_squared_log_error(houses_validation[\"SalePrice\"], feed_forward_nn_prediction_validation, squared=False)"
   ]
  },
  {
   "cell_type": "code",
   "execution_count": null,
   "metadata": {},
   "outputs": [],
   "source": [
    "print(f\"Feed forward neural network train error (RMSE): {feed_forward_nn_rmse_train}\")\n",
    "print(f\"Feed forward neural network train error (RMSLE): {feed_forward_nn_rmsle_train}\")\n",
    "print(f\"Feed forward neural network validation error (RMSE): {feed_forward_nn_rmse_validation}\")\n",
    "print(f\"Feed forward neural network validation error (RMSLE): {feed_forward_nn_rmsle_validation}\")"
   ]
  },
  {
   "attachments": {},
   "cell_type": "markdown",
   "metadata": {},
   "source": [
    "## Conclusion"
   ]
  },
  {
   "attachments": {},
   "cell_type": "markdown",
   "metadata": {},
   "source": [
    "Finally, we compare the results of all trained models. As metrics, we use the root mean squared error (RMSE)."
   ]
  },
  {
   "cell_type": "code",
   "execution_count": null,
   "metadata": {},
   "outputs": [],
   "source": [
    "model_performance = pd.DataFrame({\n",
    "    \"Model\": [\"Linear Regression\", \"Linear Regression\", \"Linear Ridge Regression\", \"Linear Ridge Regression\",\n",
    "              \"Random Forest\", \"Random Forest\", \"Gradient Boosting\", \"Gradient Boosting\", \"Feed Forward Neural Network\",\n",
    "              \"Feed Forward Neural Network\"],\n",
    "    \"RMSE\": [lm_rmse_train, lm_rmse_validation, lm_ridge_rmse_train, lm_ridge_rmse_validation,\n",
    "             random_forest_rmse_train, random_forest_rmse_validation,\n",
    "             gradient_boosting_rmse_train, gradient_boosting_rmse_validation, feed_forward_nn_rmse_train,\n",
    "             feed_forward_nn_rmse_validation],\n",
    "    \"RMSLE\": [lm_rmsle_train, lm_rmsle_validation, lm_ridge_rmsle_train, lm_ridge_rmsle_validation,\n",
    "              random_forest_rmsle_train, random_forest_rmsle_validation,\n",
    "              gradient_boosting_rmsle_train, gradient_boosting_rmsle_validation, feed_forward_nn_rmsle_train,\n",
    "              feed_forward_nn_rmsle_validation],\n",
    "    \"Dataset\": [\"Train\", \"Validation\", \"Train\", \"Validation\", \"Train\", \"Validation\", \"Train\", \"Validation\", \"Train\",\n",
    "                \"Validation\"]\n",
    "})\n",
    "\n",
    "model_performance"
   ]
  },
  {
   "cell_type": "code",
   "execution_count": null,
   "metadata": {},
   "outputs": [],
   "source": [
    "fig = plt.figure(figsize=(10, 5))\n",
    "\n",
    "ax = fig.add_subplot(1, 1, 1)\n",
    "ax.set_title(\"Comparison of model performance\")\n",
    "sns.barplot(x=\"Model\", y=\"RMSLE\", hue=\"Dataset\", data=model_performance, ax=ax,\n",
    "            order=model_performance[model_performance[\"Dataset\"] == \"Validation\"].sort_values(by=\"RMSLE\")[\"Model\"])\n",
    "ax.set_xlabel(\"Model\")\n",
    "ax.set_ylabel(\"RMSLE\")\n",
    "ax.tick_params(axis=\"x\", rotation=90)\n",
    "\n",
    "plt.show()"
   ]
  },
  {
   "attachments": {},
   "cell_type": "markdown",
   "metadata": {},
   "source": [
    "## Submission"
   ]
  },
  {
   "attachments": {},
   "cell_type": "markdown",
   "metadata": {},
   "source": [
    "In a final step, we take the best model and predict the house prices for the submission dataset. The submission dataset is the test dataset from Kaggle. The predictions are saved in a CSV file and uploaded to Kaggle."
   ]
  },
  {
   "cell_type": "code",
   "execution_count": null,
   "metadata": {},
   "outputs": [],
   "source": [
    "best_model = gradient_boosting_model"
   ]
  },
  {
   "cell_type": "code",
   "execution_count": null,
   "metadata": {},
   "outputs": [],
   "source": [
    "houses_test = pd.read_csv(\"../data/processed/test.csv\")"
   ]
  },
  {
   "cell_type": "code",
   "execution_count": null,
   "metadata": {},
   "outputs": [],
   "source": [
    "best_model_prediction_test = best_model.predict(houses_test)\n",
    "\n",
    "submission = pd.DataFrame({\n",
    "    \"Id\": houses_test[\"Id\"],\n",
    "    \"SalePrice\": best_model_prediction_test\n",
    "})\n",
    "\n",
    "submission.to_csv(\"../data/submission.csv\", index=False)"
   ]
  }
 ],
 "metadata": {
  "kernelspec": {
   "display_name": "Python 3",
   "language": "python",
   "name": "python3"
  },
  "language_info": {
   "codemirror_mode": {
    "name": "ipython",
    "version": 3
   },
   "file_extension": ".py",
   "mimetype": "text/x-python",
   "name": "python",
   "nbconvert_exporter": "python",
   "pygments_lexer": "ipython3",
   "version": "3.10.14"
  }
 },
 "nbformat": 4,
 "nbformat_minor": 2
}
